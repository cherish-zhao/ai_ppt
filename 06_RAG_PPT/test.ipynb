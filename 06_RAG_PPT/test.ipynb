{
 "cells": [
  {
   "cell_type": "code",
   "execution_count": 28,
   "metadata": {},
   "outputs": [],
   "source": [
    "\n",
    "from pptx.util import Inches, Pt"
   ]
  },
  {
   "cell_type": "code",
   "execution_count": 15,
   "metadata": {},
   "outputs": [],
   "source": [
    "from langchain_openai import ChatOpenAI,OpenAIEmbeddings\n",
    "from langchain_community.document_loaders import PyPDFLoader\n",
    "from langchain.text_splitter import RecursiveCharacterTextSplitter\n",
    "from langchain_community.vectorstores.utils import filter_complex_metadata\n",
    "from langchain_community.vectorstores import Chroma\n",
    "from langchain.tools.retriever import create_retriever_tool\n",
    "from langchain import hub\n",
    "from langchain.agents import AgentExecutor, create_openai_functions_agent\n",
    "from langchain_openai import ChatOpenAI\n",
    "from langchain_community.tools.tavily_search import TavilySearchResults\n",
    "\n",
    "from dotenv import load_dotenv\n",
    "load_dotenv()\n",
    "\n",
    "\n",
    "class ChatAI:\n",
    "\n",
    "    def __init__(self):\n",
    "        self.model = ChatOpenAI(temperature=0.1, model_name=\"gpt-3.5-turbo\")\n",
    "        self.text_splitter = RecursiveCharacterTextSplitter(chunk_size=1024, chunk_overlap=100)\n",
    "        self.embeddings = OpenAIEmbeddings()\n",
    "        self.search_tool = TavilySearchResults()\n",
    "        instructions = \"\"\"You are a power point presentation specialist.\"\"\"\n",
    "        base_prompt = hub.pull(\"langchain-ai/openai-functions-template\")\n",
    "        self.prompt = base_prompt.partial(instructions=instructions)\n",
    "        self.tools = [self.search_tool]\n",
    "\n",
    "    def ingest(self, file_path: str):\n",
    "        docs = PyPDFLoader(file_path=file_path).load()\n",
    "        chunks = self.text_splitter.split_documents(docs)\n",
    "        chunks = filter_complex_metadata(chunks)\n",
    "        vector_store = Chroma.from_documents(documents=chunks, embedding=self.embeddings)\n",
    "        self.retriever = vector_store.as_retriever(search_type = \"mmr\", search_kwargs={\n",
    "            \"k\": 6,\n",
    "            \"fetch_k\": 20,\n",
    "            \"include_metadata\": True\n",
    "            },\n",
    "        )\n",
    "        self.retriever_tool = create_retriever_tool(\n",
    "                self.retriever,\n",
    "                \"uploaded_files_search\",\n",
    "                \"Search for information about uploaded files, for any question about uploaded files you should use this tool\",\n",
    "            )\n",
    "        self.tools.append(self.retriever_tool)\n",
    "        self.agent = create_openai_functions_agent(self.model, self.tools, self.prompt)\n",
    "\n",
    "\n",
    "\n",
    "    def ask(self, questioin: str,num_slides: int):\n",
    "        format_prompt =\"\"\"\n",
    "        Example:\n",
    "        {\"slides\": [\n",
    "        {\"title\": \"title for slide 1\", \"content\": \"Content for slide 1\"},\n",
    "        {\"title\": \"title for slide 2\", \"content\": \"Content for slide 2\"},\n",
    "        {\"title\": \"title for slide 3\", \"content\": \"Content for slide 3\"},\n",
    "        ]}\n",
    "        \"\"\"\n",
    "        template = f\"\"\"\n",
    "        question: {questioin}\n",
    "        you should create a PowerPoint presentation to answer the above question. Make it {num_slides}  slides.\n",
    "        Each slide should have a title and content.\n",
    "        step 1: think and write an outline for each title.\n",
    "        step 2: with the content, expand on each of the title of your outline using at least 3 to 5 sentences. \n",
    "        You can consider elaborating on the key ideas, offering supporting examples and explaining any details that you think would enhance the audience's understanding on the topic.\n",
    "        step 3: Structure the output information as a JSON as follows.\n",
    "        Your answer should only contain the JSON - no markdown formatting.\n",
    "        \"\"\" + format_prompt\n",
    "\n",
    "        agent_executor = AgentExecutor(\n",
    "            agent=self.agent,\n",
    "            tools=self.tools,\n",
    "            verbose=False)\n",
    "        result = agent_executor.invoke({\"input\": template})\n",
    "        return result[\"output\"]\n"
   ]
  },
  {
   "cell_type": "code",
   "execution_count": 16,
   "metadata": {},
   "outputs": [],
   "source": [
    "chai_ai = ChatAI()\n",
    "chai_ai.ingest(\"test.pdf\")"
   ]
  },
  {
   "cell_type": "code",
   "execution_count": 21,
   "metadata": {},
   "outputs": [
    {
     "name": "stdout",
     "output_type": "stream",
     "text": [
      "{\n",
      "  \"slides\": [\n",
      "    {\n",
      "      \"title\": \"Introduction to the Eight Elements of Thinking\",\n",
      "      \"content\": \"The eight elements of thinking are essential components that contribute to effective critical thinking. These elements provide a framework for analyzing and evaluating information critically. By understanding each element, individuals can enhance their problem-solving skills and make informed decisions.\"\n",
      "    },\n",
      "    {\n",
      "      \"title\": \"The First Element: Purpose\",\n",
      "      \"content\": \"Purpose is the first element of thinking and involves identifying the goal or objective of the thinking process. It is crucial to clarify the purpose to ensure that the thinking is focused and directed towards achieving a specific outcome. Without a clear purpose, the thinking process may lack direction and coherence.\"\n",
      "    },\n",
      "    {\n",
      "      \"title\": \"The Second Element: Question at Issue\",\n",
      "      \"content\": \"The second element, question at issue, emphasizes the importance of formulating relevant and meaningful questions. Effective thinking involves asking critical questions that address the core issues or problems at hand. By identifying the key questions, individuals can delve deeper into the subject matter and uncover valuable insights.\"\n",
      "    },\n",
      "    {\n",
      "      \"title\": \"The Third Element: Information\",\n",
      "      \"content\": \"Information is a critical element that influences the quality of thinking. It involves gathering relevant data, facts, and evidence to support the thinking process. Access to accurate and reliable information is essential for making well-informed decisions and drawing logical conclusions.\"\n",
      "    }\n",
      "  ]\n",
      "}\n"
     ]
    }
   ],
   "source": [
    "output = chai_ai.ask(\"What is the eight element of thinking using uploaded file\", 4)\n",
    "print(output)"
   ]
  },
  {
   "cell_type": "code",
   "execution_count": 22,
   "metadata": {},
   "outputs": [],
   "source": [
    "import json\n",
    "output = json.loads(output)"
   ]
  },
  {
   "cell_type": "code",
   "execution_count": 24,
   "metadata": {},
   "outputs": [
    {
     "data": {
      "text/plain": [
       "[{'title': 'Introduction to the Eight Elements of Thinking',\n",
       "  'content': 'The eight elements of thinking are essential components that contribute to effective critical thinking. These elements provide a framework for analyzing and evaluating information critically. By understanding each element, individuals can enhance their problem-solving skills and make informed decisions.'},\n",
       " {'title': 'The First Element: Purpose',\n",
       "  'content': 'Purpose is the first element of thinking and involves identifying the goal or objective of the thinking process. It is crucial to clarify the purpose to ensure that the thinking is focused and directed towards achieving a specific outcome. Without a clear purpose, the thinking process may lack direction and coherence.'},\n",
       " {'title': 'The Second Element: Question at Issue',\n",
       "  'content': 'The second element, question at issue, emphasizes the importance of formulating relevant and meaningful questions. Effective thinking involves asking critical questions that address the core issues or problems at hand. By identifying the key questions, individuals can delve deeper into the subject matter and uncover valuable insights.'},\n",
       " {'title': 'The Third Element: Information',\n",
       "  'content': 'Information is a critical element that influences the quality of thinking. It involves gathering relevant data, facts, and evidence to support the thinking process. Access to accurate and reliable information is essential for making well-informed decisions and drawing logical conclusions.'}]"
      ]
     },
     "execution_count": 24,
     "metadata": {},
     "output_type": "execute_result"
    }
   ],
   "source": [
    "output['slides']"
   ]
  },
  {
   "cell_type": "code",
   "execution_count": 25,
   "metadata": {},
   "outputs": [],
   "source": [
    "from pptx import Presentation\n"
   ]
  },
  {
   "cell_type": "code",
   "execution_count": 39,
   "metadata": {},
   "outputs": [],
   "source": [
    "from openai import OpenAI\n",
    "import os\n",
    "import requests\n",
    "from PIL import Image\n",
    "\n",
    "\n",
    "# function for image generation\n",
    "def image_generator(prompt):\n",
    "    client = OpenAI()\n",
    "    try:\n",
    "        # Create an image by using the image generation API\n",
    "        generation_response = client.images.generate(\n",
    "            model=\"dall-e-3\",\n",
    "            prompt=prompt,\n",
    "            size='1024x1024',\n",
    "            n=1\n",
    "        )\n",
    "        image_url = generation_response.data[0].url # extract image URL from response\n",
    "        image = requests.get(image_url).content  # download the image\n",
    "        generated_image = BytesIO(image)\n",
    "        return generated_image\n",
    "    except client.error.InvalidRequestError as err:\n",
    "        print(err)"
   ]
  },
  {
   "cell_type": "code",
   "execution_count": 51,
   "metadata": {},
   "outputs": [],
   "source": [
    "def create_presentation(topic, slide_titles, slide_contents):\n",
    "    prs = Presentation()\n",
    "    title_side_layout = prs.slide_layouts[0]\n",
    "    two_col_slide_layout = prs.slide_layouts[8]\n",
    "\n",
    "    title_slide = prs.slides.add_slide(title_side_layout)\n",
    "    title_slide.shapes.title.text = topic\n",
    "\n",
    "    for slide_title, slide_content in zip(slide_titles, slide_contents):\n",
    "        slide = prs.slides.add_slide(two_col_slide_layout)\n",
    "\n",
    "        # add title\n",
    "        slide.shapes.title.text = slide_title\n",
    "\n",
    "        # add image \n",
    "        image = image_generator(slide_content)\n",
    "        slide.shapes.placeholders[1].insert_picture(image)\n",
    "\n",
    "        # Add text \n",
    "        slide.shapes.placeholders[2].text = slide_content\n",
    "    \n",
    "\n",
    "    prs.save(f\"{topic}_presentation.pptx\")"
   ]
  },
  {
   "cell_type": "code",
   "execution_count": 52,
   "metadata": {},
   "outputs": [],
   "source": [
    "titles = [slide['title'] for slide in output['slides']]\n",
    "contents = [slide['content'] for slide in output['slides']]\n",
    "\n",
    "create_presentation(\"What is the eight element of thinking\", titles, contents)"
   ]
  }
 ],
 "metadata": {
  "kernelspec": {
   "display_name": "langchain",
   "language": "python",
   "name": "python3"
  },
  "language_info": {
   "codemirror_mode": {
    "name": "ipython",
    "version": 3
   },
   "file_extension": ".py",
   "mimetype": "text/x-python",
   "name": "python",
   "nbconvert_exporter": "python",
   "pygments_lexer": "ipython3",
   "version": "3.11.9"
  }
 },
 "nbformat": 4,
 "nbformat_minor": 2
}
